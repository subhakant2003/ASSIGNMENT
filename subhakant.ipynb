{
  "nbformat": 4,
  "nbformat_minor": 0,
  "metadata": {
    "colab": {
      "provenance": [],
      "authorship_tag": "ABX9TyNPL0t9hXxkenx2FfkQVrNC",
      "include_colab_link": true
    },
    "kernelspec": {
      "name": "python3",
      "display_name": "Python 3"
    },
    "language_info": {
      "name": "python"
    },
    "gpuClass": "standard"
  },
  "cells": [
    {
      "cell_type": "markdown",
      "metadata": {
        "id": "view-in-github",
        "colab_type": "text"
      },
      "source": [
        "<a href=\"https://colab.research.google.com/github/subhakant2003/ASSIGNMENT/blob/main/subhakant.ipynb\" target=\"_parent\"><img src=\"https://colab.research.google.com/assets/colab-badge.svg\" alt=\"Open In Colab\"/></a>"
      ]
    },
    {
      "cell_type": "code",
      "execution_count": 1,
      "metadata": {
        "colab": {
          "base_uri": "https://localhost:8080/"
        },
        "id": "jNQSPdiqGPe8",
        "outputId": "b8929898-ded5-4a3d-b9df-02786802fd68"
      },
      "outputs": [
        {
          "output_type": "stream",
          "name": "stdout",
          "text": [
            "Hii, everyone how are you?\n",
            "Myself Subhakant Bhokta, I am 19 year old boy.\n"
          ]
        }
      ],
      "source": [
        "f = open(\"subhakant.txt\",\"r\")\n",
        "coment=f.read()\n",
        "print(coment)"
      ]
    },
    {
      "cell_type": "code",
      "source": [
        "f.close()"
      ],
      "metadata": {
        "id": "NtNeBVqAHL9K"
      },
      "execution_count": 2,
      "outputs": []
    },
    {
      "cell_type": "code",
      "source": [
        "f = open(\"subhakant.txt\",\"w\")\n",
        "coment=f.write('this is written by user\\n')\n",
        "print(coment)"
      ],
      "metadata": {
        "colab": {
          "base_uri": "https://localhost:8080/"
        },
        "id": "YAc3XKrkHP6K",
        "outputId": "f972a54a-936b-41aa-f800-9bc4d92f4e68"
      },
      "execution_count": 3,
      "outputs": [
        {
          "output_type": "stream",
          "name": "stdout",
          "text": [
            "24\n"
          ]
        }
      ]
    },
    {
      "cell_type": "code",
      "source": [
        "f = open(\"subhakant.txt\",\"r\")\n",
        "coment=f.read()\n",
        "print(coment)"
      ],
      "metadata": {
        "colab": {
          "base_uri": "https://localhost:8080/"
        },
        "id": "b5KQx90qHQrn",
        "outputId": "20840ec8-bcd9-455f-e593-e1f028197074"
      },
      "execution_count": 6,
      "outputs": [
        {
          "output_type": "stream",
          "name": "stdout",
          "text": [
            "this is written by user\n",
            "\n"
          ]
        }
      ]
    },
    {
      "cell_type": "code",
      "source": [
        "f = open(\"subhakant.txt\",\"a\")\n",
        "coment=f.write(\"this is under cctv camera!\")\n",
        "print(coment)"
      ],
      "metadata": {
        "colab": {
          "base_uri": "https://localhost:8080/"
        },
        "id": "GDA1hLwlIgKT",
        "outputId": "7e3b3b70-400c-4f55-b039-fbb45747ec90"
      },
      "execution_count": 7,
      "outputs": [
        {
          "output_type": "stream",
          "name": "stdout",
          "text": [
            "26\n"
          ]
        }
      ]
    },
    {
      "cell_type": "code",
      "source": [
        "f = open(\"subhakant.txt\",\"r\")\n",
        "coment=f.read()\n",
        "print(coment)"
      ],
      "metadata": {
        "colab": {
          "base_uri": "https://localhost:8080/"
        },
        "id": "_N739gg4I3eC",
        "outputId": "76d63928-0bba-4426-8b14-f835fca206e2"
      },
      "execution_count": 9,
      "outputs": [
        {
          "output_type": "stream",
          "name": "stdout",
          "text": [
            "this is written by user\n",
            "this is under cctv camera!\n"
          ]
        }
      ]
    }
  ]
}